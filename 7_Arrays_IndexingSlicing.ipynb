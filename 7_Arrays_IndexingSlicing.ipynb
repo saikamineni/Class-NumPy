{
 "metadata": {
  "name": "",
  "signature": "sha256:fa39e4a4e8237fa9f18e0ab4447f6501f520650dd9e1c5c38df38f3a2b1ba730"
 },
 "nbformat": 3,
 "nbformat_minor": 0,
 "worksheets": [
  {
   "cells": [
    {
     "cell_type": "heading",
     "level": 1,
     "metadata": {},
     "source": [
      "Array Indexing and Slicing"
     ]
    },
    {
     "cell_type": "markdown",
     "metadata": {},
     "source": [
      "Setting Array Elements\n",
      "======================\n",
      "\n",
      "Array Indexing\n",
      "--------------\n",
      "\n",
      "The elements of one dimensional arrays are accessed exactly elements of a list.  And, the elements are both readable and writable.  Python has zero based indexing, so the 1st element is accessed using `a[0]`.  In this example we are retrieving the index `0` element as well as changing it to the value `10`.   "
     ]
    },
    {
     "cell_type": "code",
     "collapsed": false,
     "input": [
      "a = array([0, 1, 2, 3])\n",
      "a"
     ],
     "language": "python",
     "metadata": {},
     "outputs": [
      {
       "metadata": {},
       "output_type": "pyout",
       "prompt_number": 1,
       "text": [
        "array([0, 1, 2, 3])"
       ]
      }
     ],
     "prompt_number": 1
    },
    {
     "cell_type": "code",
     "collapsed": false,
     "input": [
      "a[0]"
     ],
     "language": "python",
     "metadata": {},
     "outputs": [
      {
       "metadata": {},
       "output_type": "pyout",
       "prompt_number": 2,
       "text": [
        "0"
       ]
      }
     ],
     "prompt_number": 2
    },
    {
     "cell_type": "code",
     "collapsed": false,
     "input": [
      "a[0] = 10\n",
      "a"
     ],
     "language": "python",
     "metadata": {},
     "outputs": [
      {
       "metadata": {},
       "output_type": "pyout",
       "prompt_number": 4,
       "text": [
        "array([10,  1,  2,  3])"
       ]
      }
     ],
     "prompt_number": 4
    },
    {
     "cell_type": "markdown",
     "metadata": {},
     "source": [
      "Filling an Array with a Single Value\n",
      "------------------------------------\n",
      "\n",
      "The `fill` method makes it easy to set all the elements in an array to a single value.  There is also a slicing trick (discussed in more detail later in the lecture) that will do exactly the same thing."
     ]
    },
    {
     "cell_type": "code",
     "collapsed": false,
     "input": [
      "a.fill(0)\n",
      "a"
     ],
     "language": "python",
     "metadata": {},
     "outputs": [
      {
       "metadata": {},
       "output_type": "pyout",
       "prompt_number": 6,
       "text": [
        "array([0, 0, 0, 0])"
       ]
      }
     ],
     "prompt_number": 6
    },
    {
     "cell_type": "code",
     "collapsed": false,
     "input": [
      "a[:] = 1\n",
      "a"
     ],
     "language": "python",
     "metadata": {},
     "outputs": [
      {
       "metadata": {},
       "output_type": "pyout",
       "prompt_number": 8,
       "text": [
        "array([1, 1, 1, 1])"
       ]
      }
     ],
     "prompt_number": 8
    },
    {
     "cell_type": "markdown",
     "metadata": {},
     "source": [
      "Beware of Type Coercion\n",
      "-----------------------"
     ]
    },
    {
     "cell_type": "markdown",
     "metadata": {},
     "source": [
      "Because the individual elements of NumPy arrays are all the same type, values that don't 'fit' into the data type can end up getting truncated.  For example, if you have an array of integers and try to assign a floating point number into it, the decimal portion of the number is simply left off.  Here, we have a 10.6 that is truncated to be 10.  The `fill` method has exactly the same behavior. "
     ]
    },
    {
     "cell_type": "code",
     "collapsed": false,
     "input": [
      "a[0] = 10.6\n",
      "a"
     ],
     "language": "python",
     "metadata": {},
     "outputs": [
      {
       "metadata": {},
       "output_type": "pyout",
       "prompt_number": 10,
       "text": [
        "array([10,  1,  1,  1])"
       ]
      }
     ],
     "prompt_number": 10
    },
    {
     "cell_type": "code",
     "collapsed": false,
     "input": [
      "a.fill(-4.8)\n",
      "a"
     ],
     "language": "python",
     "metadata": {},
     "outputs": [
      {
       "metadata": {},
       "output_type": "pyout",
       "prompt_number": 11,
       "text": [
        "array([-4, -4, -4, -4])"
       ]
      }
     ],
     "prompt_number": 11
    },
    {
     "cell_type": "markdown",
     "metadata": {},
     "source": [
      "Slicing\n",
      "-------\n",
      "Slicing out a set of consecutive values from an array has the following syntax:\n",
      "\n",
      "    var[lower:upper]\n",
      "\n",
      "If you think about the indices as 'between' the elements, this is saying return all the elements that fall between the `lower` and `upper` index.  Or, an alternative way of thinking about this is that the returned values will start at the `lower` index and go up to, but not include, the `upper` index.\n",
      "\n",
      "Slicing can actually take a 3rd value, called the `step` value:\n",
      "\n",
      "    var[lower:upper:step]\n",
      "\n",
      "A `step` value of `2` tells Python to skip every other element that it retrieves from the array.   "
     ]
    },
    {
     "cell_type": "code",
     "collapsed": false,
     "input": [
      "a = array([10, 11, 12, 13, 14])\n",
      "a"
     ],
     "language": "python",
     "metadata": {},
     "outputs": [
      {
       "metadata": {},
       "output_type": "pyout",
       "prompt_number": 1,
       "text": [
        "array([10, 11, 12, 13, 14])"
       ]
      }
     ],
     "prompt_number": 1
    },
    {
     "cell_type": "code",
     "collapsed": false,
     "input": [
      "a[1:3]"
     ],
     "language": "python",
     "metadata": {},
     "outputs": [
      {
       "metadata": {},
       "output_type": "pyout",
       "prompt_number": 2,
       "text": [
        "array([11, 12])"
       ]
      }
     ],
     "prompt_number": 2
    },
    {
     "cell_type": "code",
     "collapsed": false,
     "input": [
      "a[1:-2]"
     ],
     "language": "python",
     "metadata": {},
     "outputs": [
      {
       "metadata": {},
       "output_type": "pyout",
       "prompt_number": 15,
       "text": [
        "array([11, 12])"
       ]
      }
     ],
     "prompt_number": 15
    },
    {
     "cell_type": "code",
     "collapsed": false,
     "input": [
      "a[-4:3]"
     ],
     "language": "python",
     "metadata": {},
     "outputs": [
      {
       "metadata": {},
       "output_type": "pyout",
       "prompt_number": 17,
       "text": [
        "array([11, 12])"
       ]
      }
     ],
     "prompt_number": 17
    },
    {
     "cell_type": "markdown",
     "metadata": {},
     "source": [
      "Omitting Indices\n",
      "----------------\n",
      "\n",
      "If you omit the `lower` index, then the slice starts at the beginning of the array and goes up to (but doesn't include) the `upper` index.                           "
     ]
    },
    {
     "cell_type": "code",
     "collapsed": false,
     "input": [
      "a[:3]"
     ],
     "language": "python",
     "metadata": {},
     "outputs": [
      {
       "metadata": {},
       "output_type": "pyout",
       "prompt_number": 18,
       "text": [
        "array([10, 11, 12])"
       ]
      }
     ],
     "prompt_number": 18
    },
    {
     "cell_type": "markdown",
     "metadata": {},
     "source": [
      "Omitting the `upper` index means the slice goes to the end of the array.  "
     ]
    },
    {
     "cell_type": "code",
     "collapsed": false,
     "input": [
      "a[-2:]"
     ],
     "language": "python",
     "metadata": {},
     "outputs": [
      {
       "metadata": {},
       "output_type": "pyout",
       "prompt_number": 19,
       "text": [
        "array([13, 14])"
       ]
      }
     ],
     "prompt_number": 19
    },
    {
     "cell_type": "markdown",
     "metadata": {},
     "source": [
      "If you omit both the `lower` and the `upper` index, then the slice starts at the beginning and goes to the end of the array.  Here, we have also add a `step` value so that every other element is returned."
     ]
    },
    {
     "cell_type": "code",
     "collapsed": false,
     "input": [
      "a[::2]"
     ],
     "language": "python",
     "metadata": {},
     "outputs": [
      {
       "metadata": {},
       "output_type": "pyout",
       "prompt_number": 21,
       "text": [
        "array([10, 12, 14])"
       ]
      }
     ],
     "prompt_number": 21
    },
    {
     "cell_type": "markdown",
     "metadata": {},
     "source": [
      "Slicing to compute differences\n",
      "------------------------------\n",
      "In this example, we have an array full of odometer readings from a roadtrip through Texas.  We can use slicing and simple math to determine how far we drove on each day."
     ]
    },
    {
     "cell_type": "code",
     "collapsed": false,
     "input": [
      "od = array([21000, 21180, 21240, 22100, 22400])\n",
      "dist = od[1:] - od[:-1]\n",
      "dist"
     ],
     "language": "python",
     "metadata": {},
     "outputs": [
      {
       "metadata": {},
       "output_type": "pyout",
       "prompt_number": 23,
       "text": [
        "array([180,  60, 860, 300])"
       ]
      }
     ],
     "prompt_number": 23
    },
    {
     "cell_type": "markdown",
     "metadata": {},
     "source": [
      "Simple Speed Comparison\n",
      "-----------------------\n",
      "\n",
      "Let's do a quick comparison using the magic command `%timeit` in ipython to see how much faster calculations using NumPy slicing.  For this simple example, on a Mac Book Pro, NumPy slicing is about 200x faster than the equivalent list comprehension. "
     ]
    },
    {
     "cell_type": "code",
     "collapsed": false,
     "input": [
      "a = arange(1000)\n",
      "%timeit a[1:] - a[:-1]"
     ],
     "language": "python",
     "metadata": {},
     "outputs": [
      {
       "output_type": "stream",
       "stream": "stdout",
       "text": [
        "100000 loops, best of 3: 3.01 \u00b5s per loop\n"
       ]
      }
     ],
     "prompt_number": 24
    },
    {
     "cell_type": "code",
     "collapsed": false,
     "input": [
      "% timeit [a[i+1] - a[i] for i in range(999)]"
     ],
     "language": "python",
     "metadata": {},
     "outputs": [
      {
       "output_type": "stream",
       "stream": "stdout",
       "text": [
        "1000 loops, best of 3: 672 \u00b5s per loop\n"
       ]
      }
     ],
     "prompt_number": 29
    }
   ],
   "metadata": {}
  }
 ]
}