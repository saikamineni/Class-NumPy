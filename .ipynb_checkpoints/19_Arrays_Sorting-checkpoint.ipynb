{
 "metadata": {
  "name": "",
  "signature": "sha256:721cf56ac53e826ea1fe71473cfb1ac2941efaf69f63ea012add6d62f2e61164"
 },
 "nbformat": 3,
 "nbformat_minor": 0,
 "worksheets": [
  {
   "cells": [
    {
     "cell_type": "heading",
     "level": 1,
     "metadata": {},
     "source": [
      "Sorting Arrays"
     ]
    },
    {
     "cell_type": "code",
     "collapsed": false,
     "input": [
      "Start with two related arrays, the names and weights of children"
     ],
     "language": "python",
     "metadata": {},
     "outputs": []
    },
    {
     "cell_type": "markdown",
     "metadata": {},
     "source": []
    },
    {
     "cell_type": "code",
     "collapsed": false,
     "input": [],
     "language": "python",
     "metadata": {},
     "outputs": []
    }
   ],
   "metadata": {}
  }
 ]
}