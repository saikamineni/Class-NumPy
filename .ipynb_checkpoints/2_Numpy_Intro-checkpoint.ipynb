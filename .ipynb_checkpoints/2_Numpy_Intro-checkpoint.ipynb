{
 "metadata": {
  "name": "",
  "signature": "sha256:4b55b7b286a8c432479d3dd7f905e3ba4bda263d67c67961b903720d5ed9253c"
 },
 "nbformat": 3,
 "nbformat_minor": 0,
 "worksheets": []
}