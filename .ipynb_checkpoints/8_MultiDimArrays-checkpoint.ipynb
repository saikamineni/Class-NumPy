{
 "metadata": {
  "name": "MULTI_DIMENSIONAL_ARRAYS.ipynb"
 },
 "nbformat": 3,
 "nbformat_minor": 0,
 "worksheets": [
  {
   "cells": [
    {
     "cell_type": "heading",
     "level": 1,
     "metadata": {},
     "source": [
      "Multi-Dimensional Arrays"
     ]
    },
    {
     "cell_type": "markdown",
     "metadata": {},
     "source": [
      "Creating a 2D Array\n",
      "-------------------\n",
      "\n",
      "Converting a list of lists into an array will return a 2D array."
     ]
    },
    {
     "cell_type": "code",
     "collapsed": false,
     "input": [
      "a = array([[ 0, 1, 2, 3],\n",
      "           [10,11,12,13]])\n",
      "a"
     ],
     "language": "python",
     "metadata": {},
     "outputs": [
      {
       "output_type": "pyout",
       "prompt_number": 1,
       "text": [
        "array([[ 0,  1,  2,  3],\n",
        "       [10, 11, 12, 13]])"
       ]
      }
     ],
     "prompt_number": 1
    },
    {
     "cell_type": "markdown",
     "metadata": {},
     "source": [
      "Shape\n",
      "-----\n",
      "\n",
      "A multi-dimensional array's shape attribute will return a tuple with multiple values (one for each dimension). "
     ]
    },
    {
     "cell_type": "code",
     "collapsed": false,
     "input": [
      "a.shape"
     ],
     "language": "python",
     "metadata": {},
     "outputs": [
      {
       "output_type": "pyout",
       "prompt_number": 2,
       "text": [
        "(2, 4)"
       ]
      }
     ],
     "prompt_number": 2
    },
    {
     "cell_type": "markdown",
     "metadata": {},
     "source": [
      "Size\n",
      "----\n",
      "\n",
      "And the size tells you the total number of elements within the array.  This is equivalent to the product of all the entries in its shape array."
     ]
    },
    {
     "cell_type": "code",
     "collapsed": false,
     "input": [
      "a.size"
     ],
     "language": "python",
     "metadata": {},
     "outputs": [
      {
       "output_type": "pyout",
       "prompt_number": 3,
       "text": [
        "8"
       ]
      }
     ],
     "prompt_number": 3
    },
    {
     "cell_type": "markdown",
     "metadata": {},
     "source": [
      "Number of Dimensions\n",
      "--------------------\n",
      "\n",
      "And, of course, its dimensionality is two."
     ]
    },
    {
     "cell_type": "code",
     "collapsed": false,
     "input": [
      "a.ndim"
     ],
     "language": "python",
     "metadata": {},
     "outputs": [
      {
       "output_type": "pyout",
       "prompt_number": 4,
       "text": [
        "2"
       ]
      }
     ],
     "prompt_number": 4
    },
    {
     "cell_type": "markdown",
     "metadata": {},
     "source": [
      "Getting/Setting Array Elements\n",
      "------------------------------\n",
      "\n",
      "Indexing 2D arrays requires two indices, one for the rows, and one for the columns.  This is useful for accessing and setting values in the array."
     ]
    },
    {
     "cell_type": "code",
     "collapsed": false,
     "input": [
      "a[1,3]"
     ],
     "language": "python",
     "metadata": {},
     "outputs": [
      {
       "output_type": "pyout",
       "prompt_number": 5,
       "text": [
        "13"
       ]
      }
     ],
     "prompt_number": 5
    },
    {
     "cell_type": "code",
     "collapsed": false,
     "input": [
      "a[1,3] = -1\n",
      "a"
     ],
     "language": "python",
     "metadata": {},
     "outputs": [
      {
       "output_type": "pyout",
       "prompt_number": 8,
       "text": [
        "array([[ 0,  1,  2,  3],\n",
        "       [10, 11, 12, -1]])"
       ]
      }
     ],
     "prompt_number": 8
    },
    {
     "cell_type": "markdown",
     "metadata": {},
     "source": [
      "Incomplete Indexing\n",
      "-------------------\n",
      "\n",
      "If you only supply a single index into a 2D array, it will be treated as the row index."
     ]
    },
    {
     "cell_type": "code",
     "collapsed": false,
     "input": [
      "a[1]"
     ],
     "language": "python",
     "metadata": {},
     "outputs": [
      {
       "output_type": "pyout",
       "prompt_number": 9,
       "text": [
        "array([10, 11, 12, -1])"
       ]
      }
     ],
     "prompt_number": 9
    }
   ],
   "metadata": {}
  }
 ]
}